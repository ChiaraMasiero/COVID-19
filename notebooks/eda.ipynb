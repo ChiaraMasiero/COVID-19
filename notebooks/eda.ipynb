{
 "cells": [
  {
   "cell_type": "markdown",
   "metadata": {},
   "source": [
    "# Exploratory data analysis - Italy"
   ]
  },
  {
   "cell_type": "code",
   "execution_count": 40,
   "metadata": {},
   "outputs": [],
   "source": [
    "import pandas as pd\n",
    "import numpy as np\n",
    "import plotly.express as px\n",
    "import streamlit as st\n",
    "from datetime import datetime\n",
    "\n",
    "st.set_page_config(layout=\"wide\")\n"
   ]
  },
  {
   "cell_type": "markdown",
   "metadata": {},
   "source": [
    "## Data Extraction and Loading"
   ]
  },
  {
   "cell_type": "code",
   "execution_count": 2,
   "metadata": {},
   "outputs": [],
   "source": [
    "demo_data = pd.read_csv('../auxiliary_data/regioni_istat_2020_01.csv').drop(\n",
    "    ['Tipo di indicatore demografico', 'Sesso', 'Età', 'Flags', 'Seleziona periodo'], axis=1)\n",
    "demo_data = demo_data[demo_data['Stato civile']=='totale']"
   ]
  },
  {
   "cell_type": "code",
   "execution_count": 3,
   "metadata": {},
   "outputs": [],
   "source": [
    "demo_data.at[24,'Territorio'] = 'P.A. Bolzano'\n",
    "demo_data.at[29,'Territorio'] = 'P.A. Trento'"
   ]
  },
  {
   "cell_type": "code",
   "execution_count": 4,
   "metadata": {},
   "outputs": [],
   "source": [
    "#regional_data = pd.read_csv('../dati-regioni/dpc-covid19-ita-regioni.csv')\n",
    "regional_data = pd.read_csv('https://raw.githubusercontent.com/pcm-dpc/COVID-19/master/dati-regioni/dpc-covid19-ita-regioni.csv')\n",
    "regional_data['data'] = pd.to_datetime(regional_data['data'])"
   ]
  },
  {
   "cell_type": "code",
   "execution_count": 5,
   "metadata": {},
   "outputs": [],
   "source": [
    "mapping_regioni = dict(zip(sorted(demo_data.Territorio.unique()),sorted(regional_data.denominazione_regione.unique())))"
   ]
  },
  {
   "cell_type": "code",
   "execution_count": 6,
   "metadata": {},
   "outputs": [],
   "source": [
    "demo_data['denominazione_regione']=demo_data['Territorio'].map(mapping_regioni)"
   ]
  },
  {
   "cell_type": "code",
   "execution_count": 7,
   "metadata": {},
   "outputs": [],
   "source": [
    "demo_data.rename(columns={'Value':'population'},inplace=True)"
   ]
  },
  {
   "cell_type": "code",
   "execution_count": 8,
   "metadata": {},
   "outputs": [],
   "source": [
    "macro_regions = pd.read_csv('../auxiliary_data/macro_regioni.csv', sep=';')"
   ]
  },
  {
   "cell_type": "code",
   "execution_count": 9,
   "metadata": {},
   "outputs": [],
   "source": [
    "regional_data = regional_data.merge(demo_data,on='denominazione_regione').merge(macro_regions, on='denominazione_regione')"
   ]
  },
  {
   "cell_type": "code",
   "execution_count": 10,
   "metadata": {},
   "outputs": [],
   "source": [
    "#vaccine_data = pd.read_csv('https://raw.githubusercontent.com/italia/covid19-opendata-vaccini/master/dati/somministrazioni-vaccini-latest.csv')"
   ]
  },
  {
   "cell_type": "code",
   "execution_count": 11,
   "metadata": {},
   "outputs": [],
   "source": [
    "#world_data = pd.read_csv('https://covid.ourworldindata.org/data/owid-covid-data.csv')"
   ]
  },
  {
   "cell_type": "markdown",
   "metadata": {},
   "source": [
    "## Data analysis\n",
    "\n",
    "### List of vizualizations\n",
    "- Scorecards (current positive) \n",
    "- Top 5 regions by (most) new cases last seven days\n",
    "- Top 5 regions by current positive on population\n",
    "- New positive weekly sum by macro region (stacked column chart) trend\n",
    "- Rolling avg (7 days) new positive and new case by population by region (with selector)\n",
    "- Intensive cares/Deaths and IC/deaths by population by region (with selector)\n",
    "\n",
    "The same can be repeated at World and Europe level"
   ]
  },
  {
   "cell_type": "code",
   "execution_count": 12,
   "metadata": {},
   "outputs": [],
   "source": [
    "regional_level_values = regional_data.set_index(['denominazione_regione','data']).index.get_level_values"
   ]
  },
  {
   "cell_type": "code",
   "execution_count": 13,
   "metadata": {},
   "outputs": [],
   "source": [
    "regional_data = regional_data.sort_values(by=['denominazione_regione','data'], ascending=True)"
   ]
  },
  {
   "cell_type": "code",
   "execution_count": 14,
   "metadata": {},
   "outputs": [],
   "source": [
    "metrics = ('terapia_intensiva','totale_ospedalizzati', 'totale_positivi','nuovi_positivi','totale_casi', \n",
    "                'deceduti', 'tamponi','ingressi_terapia_intensiva')"
   ]
  },
  {
   "cell_type": "code",
   "execution_count": 15,
   "metadata": {},
   "outputs": [],
   "source": [
    "metrics_to_plot = []\n",
    "for metric in metrics:\n",
    "    metrics_to_plot.append(metric)\n",
    "    #over population\n",
    "    label = metric + '_su_100000'\n",
    "    metrics_to_plot.append(label)\n",
    "    regional_data[label] = regional_data[metric]*100000/regional_data['population']"
   ]
  },
  {
   "cell_type": "code",
   "execution_count": 16,
   "metadata": {},
   "outputs": [],
   "source": [
    "#result = regional_data.set_index(['denominazione_regione','data']).groupby([regional_level_values(0)]\n",
    "#                      +[pd.Grouper(freq='7d', level=-1)]).agg({'nuovi_positivi':np.sum})"
   ]
  },
  {
   "cell_type": "code",
   "execution_count": 18,
   "metadata": {},
   "outputs": [],
   "source": [
    "regional_data['nuovi_positivi_rolling_avg_7_days'] = regional_data.set_index(['denominazione_regione','data']).groupby(level=0).rolling(7).mean()['nuovi_positivi'].values\n",
    "regional_data['nuovi_positivi_su_100000_rolling_avg_7_days'] = regional_data.set_index(['denominazione_regione','data']).groupby(level=0).rolling(7).mean()['nuovi_positivi_su_100000'].values\n",
    "regional_data['nuovi_positivi_rolling_sum_7_days'] = regional_data.set_index(['denominazione_regione','data']).groupby(level=0).rolling(7).sum()['nuovi_positivi'].values\n",
    "regional_data['nuovi_positivi_su_100000_rolling_sum_7_days'] = regional_data.set_index(['denominazione_regione','data']).groupby(level=0).rolling(7).sum()['nuovi_positivi_su_100000'].values"
   ]
  },
  {
   "cell_type": "code",
   "execution_count": 19,
   "metadata": {},
   "outputs": [],
   "source": [
    "#regional_data.query('denominazione_regione==\"Veneto\"').tail(10)[['nuovi_positivi','nuovi_positivi_rolling_avg_7_days','nuovi_positivi_rolling_sum_7_days']]"
   ]
  },
  {
   "cell_type": "code",
   "execution_count": 20,
   "metadata": {},
   "outputs": [],
   "source": [
    "#px.bar(data_frame=regional_data,y='terapia_intensiva',x='data',color='macro_regione', hover_name='denominazione_regione')"
   ]
  },
  {
   "cell_type": "code",
   "execution_count": 21,
   "metadata": {},
   "outputs": [
    {
     "data": {
      "text/plain": [
       "<streamlit.delta_generator.DeltaGenerator at 0x7fb4fb4b4a60>"
      ]
     },
     "execution_count": 21,
     "metadata": {},
     "output_type": "execute_result"
    }
   ],
   "source": [
    "st.title('COVID-19 monitoring dashboard')"
   ]
  },
  {
   "cell_type": "code",
   "execution_count": 22,
   "metadata": {},
   "outputs": [],
   "source": [
    "st.write('## Italian data')"
   ]
  },
  {
   "cell_type": "code",
   "execution_count": 23,
   "metadata": {},
   "outputs": [],
   "source": [
    "most_recent_day = regional_data.data.max()"
   ]
  },
  {
   "cell_type": "code",
   "execution_count": 39,
   "metadata": {},
   "outputs": [],
   "source": [
    "col1, col2 = st.beta_columns(2)"
   ]
  },
  {
   "cell_type": "code",
   "execution_count": 35,
   "metadata": {},
   "outputs": [
    {
     "data": {
      "text/plain": [
       "<streamlit.delta_generator.DeltaGenerator at 0x7fb4fb4b4a60>"
      ]
     },
     "execution_count": 35,
     "metadata": {},
     "output_type": "execute_result"
    }
   ],
   "source": [
    "fig = px.bar(data_frame = regional_data[regional_data['data']==most_recent_day].sort_values(by='nuovi_positivi_rolling_sum_7_days',ascending=False).head(10), \n",
    "       x='denominazione_regione', \n",
    "       y ='nuovi_positivi_rolling_sum_7_days', \n",
    "       labels={'nuovi_positivi_rolling_sum_7_days':'Sum of positive tests, last 7 days','data':'Date', 'denominazione_regione':'region'},\n",
    "       title='Top 10 regions by sum of positive tests - last 7 days')\n",
    "\n",
    "col1.plotly_chart(fig)"
   ]
  },
  {
   "cell_type": "code",
   "execution_count": 36,
   "metadata": {},
   "outputs": [
    {
     "data": {
      "text/plain": [
       "<streamlit.delta_generator.DeltaGenerator at 0x7fb4fb4b4a60>"
      ]
     },
     "execution_count": 36,
     "metadata": {},
     "output_type": "execute_result"
    }
   ],
   "source": [
    "fig = px.bar(data_frame = regional_data[regional_data['data']==most_recent_day].sort_values(by='totale_positivi_su_100000',ascending=False).head(10), \n",
    "       x='denominazione_regione', \n",
    "       y ='totale_positivi_su_100000', \n",
    "       labels={'totale_positivi_su_100000':'Currently infected people over 100,000','data':'Date', 'denominazione_regione':'region'},\n",
    "       title='Top 10 regions by number of infected people over 100000 inhabitants')\n",
    "\n",
    "col2.plotly_chart(fig)"
   ]
  },
  {
   "cell_type": "code",
   "execution_count": 26,
   "metadata": {},
   "outputs": [],
   "source": [
    "metrics_to_plot = ['terapia_intensiva','deceduti','totale_positivi','totale_casi','nuovi_positivi_rolling_avg_7_days','terapia_intensiva_su_100000','deceduti_su_100000','totale_positivi_su_100000','totale_casi_su_100000','nuovi_positivi_rolling_avg_7_days_su_100000']"
   ]
  },
  {
   "cell_type": "code",
   "execution_count": 31,
   "metadata": {},
   "outputs": [],
   "source": [
    "# Only a subset of options make sense\n",
    "y_options = sorted(metrics_to_plot)\n",
    "# Allow user to choose metric\n",
    "y_axis = st.sidebar.selectbox(label='Which metric do you want to explore?', options=y_options,key=0)"
   ]
  },
  {
   "cell_type": "code",
   "execution_count": 32,
   "metadata": {},
   "outputs": [
    {
     "data": {
      "text/plain": [
       "<streamlit.delta_generator.DeltaGenerator at 0x7fb4fb4b4a60>"
      ]
     },
     "execution_count": 32,
     "metadata": {},
     "output_type": "execute_result"
    }
   ],
   "source": [
    "# By MacroRegion\n",
    "fig = px.bar(data_frame=regional_data,\n",
    "        x='data',\n",
    "        y = y_axis,\n",
    "        color='macro_regione',\n",
    "        hover_name='denominazione_regione', \n",
    "        title=f'Daily trend by macro-region: {y_axis}')\n",
    "col1.plotly_chart(fig)"
   ]
  },
  {
   "cell_type": "code",
   "execution_count": 33,
   "metadata": {},
   "outputs": [
    {
     "data": {
      "text/plain": [
       "<streamlit.delta_generator.DeltaGenerator at 0x7fb4fb4b4a60>"
      ]
     },
     "execution_count": 33,
     "metadata": {},
     "output_type": "execute_result"
    }
   ],
   "source": [
    "# Single Region \n",
    "# Allow user to choose regions\n",
    "regions = st.sidebar.multiselect(label='Which regions do you want to consider?', \n",
    "                                      options=sorted(regional_data['denominazione_regione'].unique()), \n",
    "                                      default=sorted(regional_data['denominazione_regione'].unique()),\n",
    "                                key=1)\n",
    "\n",
    "# plot the value\n",
    "fig = px.line(regional_data[regional_data['denominazione_regione'].isin(regions)],\n",
    "                x= 'data',\n",
    "                y= y_axis ,\n",
    "                color = 'denominazione_regione',\n",
    "                title=f'Daily trend by region: {y_axis}')\n",
    "\n",
    "col2.plotly_chart(fig)"
   ]
  },
  {
   "cell_type": "code",
   "execution_count": null,
   "metadata": {},
   "outputs": [],
   "source": []
  },
  {
   "cell_type": "code",
   "execution_count": null,
   "metadata": {},
   "outputs": [],
   "source": []
  }
 ],
 "metadata": {
  "kernelspec": {
   "display_name": "Python 3",
   "language": "python",
   "name": "python3"
  },
  "language_info": {
   "codemirror_mode": {
    "name": "ipython",
    "version": 3
   },
   "file_extension": ".py",
   "mimetype": "text/x-python",
   "name": "python",
   "nbconvert_exporter": "python",
   "pygments_lexer": "ipython3",
   "version": "3.8.5"
  }
 },
 "nbformat": 4,
 "nbformat_minor": 4
}
